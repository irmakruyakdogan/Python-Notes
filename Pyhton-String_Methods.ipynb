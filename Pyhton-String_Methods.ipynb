{
 "cells": [
  {
   "cell_type": "markdown",
   "id": "6f0b5cac",
   "metadata": {},
   "source": [
    "# split"
   ]
  },
  {
   "cell_type": "code",
   "execution_count": 6,
   "id": "d2b920ab",
   "metadata": {},
   "outputs": [
    {
     "name": "stdout",
     "output_type": "stream",
     "text": [
      "['Hello', ' Irmak']\n"
     ]
    }
   ],
   "source": [
    "message = \"Hello, Irmak\"\n",
    "message = message.split(\",\")\n",
    "print(message)"
   ]
  },
  {
   "cell_type": "markdown",
   "id": "7bb04122",
   "metadata": {},
   "source": [
    "# upper"
   ]
  },
  {
   "cell_type": "code",
   "execution_count": 7,
   "id": "ce81034a",
   "metadata": {},
   "outputs": [
    {
     "name": "stdout",
     "output_type": "stream",
     "text": [
      "HELLO IRMAK\n"
     ]
    }
   ],
   "source": [
    "mess = \"Hello Irmak\"\n",
    "mess = mess.upper()\n",
    "print(mess)"
   ]
  },
  {
   "cell_type": "markdown",
   "id": "bf3fbfc2",
   "metadata": {},
   "source": [
    "# lower"
   ]
  },
  {
   "cell_type": "code",
   "execution_count": 8,
   "id": "a3f0fdc2",
   "metadata": {},
   "outputs": [
    {
     "name": "stdout",
     "output_type": "stream",
     "text": [
      "hello irmak\n"
     ]
    }
   ],
   "source": [
    "mess = \"HELLO IRMAK\"\n",
    "mess = mess.lower()\n",
    "print(mess)"
   ]
  },
  {
   "cell_type": "markdown",
   "id": "3d87c4df",
   "metadata": {},
   "source": [
    "# title"
   ]
  },
  {
   "cell_type": "code",
   "execution_count": 9,
   "id": "b7e2926f",
   "metadata": {},
   "outputs": [
    {
     "name": "stdout",
     "output_type": "stream",
     "text": [
      "Hello Irmak\n"
     ]
    }
   ],
   "source": [
    "mess = \"HELLO IRMAK\"\n",
    "mess = mess.title()\n",
    "print(mess)"
   ]
  },
  {
   "cell_type": "markdown",
   "id": "ac3e7133",
   "metadata": {},
   "source": [
    "# capitalize"
   ]
  },
  {
   "cell_type": "code",
   "execution_count": 10,
   "id": "f8a8ac3c",
   "metadata": {},
   "outputs": [
    {
     "name": "stdout",
     "output_type": "stream",
     "text": [
      "Hello irmak\n"
     ]
    }
   ],
   "source": [
    "mess = \"hello irmak\"\n",
    "mess = mess.capitalize()\n",
    "print(mess)"
   ]
  },
  {
   "cell_type": "markdown",
   "id": "faba47e1",
   "metadata": {},
   "source": [
    "# strip"
   ]
  },
  {
   "cell_type": "code",
   "execution_count": 11,
   "id": "82a174d8",
   "metadata": {},
   "outputs": [
    {
     "name": "stdout",
     "output_type": "stream",
     "text": [
      "HELLO IRMAK\n"
     ]
    }
   ],
   "source": [
    "mess = \"         HELLO IRMAK             \"\n",
    "mess = mess.strip()\n",
    "print(mess)"
   ]
  },
  {
   "cell_type": "markdown",
   "id": "2a0fd54b",
   "metadata": {},
   "source": [
    "# replace"
   ]
  },
  {
   "cell_type": "code",
   "execution_count": 12,
   "id": "6d7143ed",
   "metadata": {},
   "outputs": [
    {
     "name": "stdout",
     "output_type": "stream",
     "text": [
      "The weather is very cold.\n"
     ]
    }
   ],
   "source": [
    "mess = \"The weather is very hot.\"\n",
    "mess = mess.replace(\"hot\", \"cold\")\n",
    "print(mess)"
   ]
  },
  {
   "cell_type": "markdown",
   "id": "916a6176",
   "metadata": {},
   "source": [
    "# find"
   ]
  },
  {
   "cell_type": "code",
   "execution_count": 16,
   "id": "1ad63c66",
   "metadata": {},
   "outputs": [
    {
     "name": "stdout",
     "output_type": "stream",
     "text": [
      "11\n"
     ]
    }
   ],
   "source": [
    "mess = \"Welcome to my page\"\n",
    "mess = mess.find(\"my\")\n",
    "print(mess)"
   ]
  },
  {
   "cell_type": "markdown",
   "id": "53e40b4f",
   "metadata": {},
   "source": [
    "# index"
   ]
  },
  {
   "cell_type": "code",
   "execution_count": 24,
   "id": "b14f9ca6",
   "metadata": {},
   "outputs": [
    {
     "name": "stdout",
     "output_type": "stream",
     "text": [
      "15\n"
     ]
    }
   ],
   "source": [
    "mess = \"Welcome to my page\"\n",
    "mess = mess.index(\"a\")\n",
    "print(mess)"
   ]
  },
  {
   "cell_type": "markdown",
   "id": "72613287",
   "metadata": {},
   "source": [
    "# count"
   ]
  },
  {
   "cell_type": "code",
   "execution_count": 26,
   "id": "2c4ddfdd",
   "metadata": {},
   "outputs": [
    {
     "name": "stdout",
     "output_type": "stream",
     "text": [
      "3\n"
     ]
    }
   ],
   "source": [
    "mess = \"Welcome to my page\"\n",
    "mess = mess.count(\"e\")\n",
    "print(mess)"
   ]
  },
  {
   "cell_type": "markdown",
   "id": "ad3e80aa",
   "metadata": {},
   "source": [
    "# starswith"
   ]
  },
  {
   "cell_type": "code",
   "execution_count": 29,
   "id": "b9906434",
   "metadata": {},
   "outputs": [
    {
     "name": "stdout",
     "output_type": "stream",
     "text": [
      "True\n"
     ]
    }
   ],
   "source": [
    "mess = \"Welcome to my page\"\n",
    "result = mess.startswith(\"W\")\n",
    "print(result)"
   ]
  },
  {
   "cell_type": "markdown",
   "id": "4f7e8d11",
   "metadata": {},
   "source": [
    "# endswith"
   ]
  },
  {
   "cell_type": "code",
   "execution_count": 31,
   "id": "3e051f06",
   "metadata": {},
   "outputs": [
    {
     "name": "stdout",
     "output_type": "stream",
     "text": [
      "False\n"
     ]
    }
   ],
   "source": [
    "mess = \"Welcome to my page\"\n",
    "result = mess.endswith(\"g\")\n",
    "print(result)"
   ]
  },
  {
   "cell_type": "markdown",
   "id": "44c13d53",
   "metadata": {},
   "source": [
    "# isalpha"
   ]
  },
  {
   "cell_type": "code",
   "execution_count": 35,
   "id": "d33f67bb",
   "metadata": {},
   "outputs": [
    {
     "name": "stdout",
     "output_type": "stream",
     "text": [
      "False\n"
     ]
    }
   ],
   "source": [
    "mess = \"She's 19\"\n",
    "result = mess.isalpha()\n",
    "print(result)"
   ]
  },
  {
   "cell_type": "markdown",
   "id": "574bbaad",
   "metadata": {},
   "source": [
    "# isdigit"
   ]
  },
  {
   "cell_type": "code",
   "execution_count": 37,
   "id": "78bff86c",
   "metadata": {},
   "outputs": [
    {
     "name": "stdout",
     "output_type": "stream",
     "text": [
      "False\n"
     ]
    }
   ],
   "source": [
    "mess = \"She's 19\"\n",
    "result = mess.isdigit()\n",
    "print(result)"
   ]
  },
  {
   "cell_type": "markdown",
   "id": "048a0080",
   "metadata": {},
   "source": [
    "# slicing, starting index, stopping index, stepping size"
   ]
  },
  {
   "cell_type": "code",
   "execution_count": 38,
   "id": "073f5a9f",
   "metadata": {},
   "outputs": [
    {
     "name": "stdout",
     "output_type": "stream",
     "text": [
      "123456789\n"
     ]
    }
   ],
   "source": [
    "exam = \"123456789\"\n",
    "print(exam[::])"
   ]
  },
  {
   "cell_type": "code",
   "execution_count": 39,
   "id": "460a31c5",
   "metadata": {},
   "outputs": [
    {
     "name": "stdout",
     "output_type": "stream",
     "text": [
      "987654321\n"
     ]
    }
   ],
   "source": [
    "exam = \"123456789\"\n",
    "print(exam[::-1])     #[starting index: stopping index: stepping size]"
   ]
  },
  {
   "cell_type": "code",
   "execution_count": 40,
   "id": "bc78df72",
   "metadata": {},
   "outputs": [
    {
     "name": "stdout",
     "output_type": "stream",
     "text": [
      "46\n"
     ]
    }
   ],
   "source": [
    "exam = \"123456789\"\n",
    "print(exam[3:7:2])"
   ]
  },
  {
   "cell_type": "code",
   "execution_count": null,
   "id": "5d52a4b4",
   "metadata": {},
   "outputs": [],
   "source": []
  }
 ],
 "metadata": {
  "kernelspec": {
   "display_name": "Python 3 (ipykernel)",
   "language": "python",
   "name": "python3"
  },
  "language_info": {
   "codemirror_mode": {
    "name": "ipython",
    "version": 3
   },
   "file_extension": ".py",
   "mimetype": "text/x-python",
   "name": "python",
   "nbconvert_exporter": "python",
   "pygments_lexer": "ipython3",
   "version": "3.11.4"
  }
 },
 "nbformat": 4,
 "nbformat_minor": 5
}
