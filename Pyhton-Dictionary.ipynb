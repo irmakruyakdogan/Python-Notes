{
 "cells": [
  {
   "cell_type": "markdown",
   "id": "14f73265",
   "metadata": {},
   "source": [
    "# keys"
   ]
  },
  {
   "cell_type": "code",
   "execution_count": 1,
   "id": "87abd27c",
   "metadata": {},
   "outputs": [
    {
     "name": "stdout",
     "output_type": "stream",
     "text": [
      "dict_keys(['Fantastic', 'Sci-Fi', 'Horror'])\n"
     ]
    }
   ],
   "source": [
    "book = {\"Fantastic\":1, \"Sci-Fi\":2, \"Horror\":3}\n",
    "result = book.keys()\n",
    "print(result)"
   ]
  },
  {
   "cell_type": "markdown",
   "id": "5e43396f",
   "metadata": {},
   "source": [
    "# values"
   ]
  },
  {
   "cell_type": "code",
   "execution_count": 2,
   "id": "f16b60be",
   "metadata": {},
   "outputs": [
    {
     "name": "stdout",
     "output_type": "stream",
     "text": [
      "dict_values([1, 2, 3])\n"
     ]
    }
   ],
   "source": [
    "book = {\"Fantastic\":1, \"Sci-Fi\":2, \"Horror\":3}\n",
    "result = book.values()\n",
    "print(result)"
   ]
  },
  {
   "cell_type": "markdown",
   "id": "af415155",
   "metadata": {},
   "source": [
    "# items"
   ]
  },
  {
   "cell_type": "code",
   "execution_count": 3,
   "id": "a47270fa",
   "metadata": {},
   "outputs": [
    {
     "name": "stdout",
     "output_type": "stream",
     "text": [
      "dict_items([('Fantastic', 1), ('Sci-Fi', 2), ('Horror', 3)])\n"
     ]
    }
   ],
   "source": [
    "book = {\"Fantastic\":1, \"Sci-Fi\":2, \"Horror\":3}\n",
    "result = book.items()\n",
    "print(result)"
   ]
  },
  {
   "cell_type": "markdown",
   "id": "57f11fca",
   "metadata": {},
   "source": [
    "# get"
   ]
  },
  {
   "cell_type": "code",
   "execution_count": 4,
   "id": "46a99396",
   "metadata": {},
   "outputs": [
    {
     "name": "stdout",
     "output_type": "stream",
     "text": [
      "3\n"
     ]
    }
   ],
   "source": [
    "book = {\"Fantastic\":1, \"Sci-Fi\":2, \"Horror\":3}\n",
    "result = book.get(\"Horror\")\n",
    "print(result)"
   ]
  },
  {
   "cell_type": "markdown",
   "id": "c7f699c7",
   "metadata": {},
   "source": [
    "# clear"
   ]
  },
  {
   "cell_type": "code",
   "execution_count": 10,
   "id": "94ac7dde",
   "metadata": {},
   "outputs": [
    {
     "name": "stdout",
     "output_type": "stream",
     "text": [
      "{}\n"
     ]
    }
   ],
   "source": [
    "book = {\"Fantastic\":1, \"Sci-Fi\":2, \"Horror\":3}\n",
    "book.clear()\n",
    "print(book)"
   ]
  },
  {
   "cell_type": "markdown",
   "id": "b09f83e6",
   "metadata": {},
   "source": [
    "# fromkeys"
   ]
  },
  {
   "cell_type": "code",
   "execution_count": 12,
   "id": "7414884d",
   "metadata": {},
   "outputs": [
    {
     "name": "stdout",
     "output_type": "stream",
     "text": [
      "{'Person1': 'Türkiye', 'Person2': 'Türkiye', 'Person3': 'Türkiye'}\n"
     ]
    }
   ],
   "source": [
    "person = (\"Person1\", \"Person2\", \"Person3\")\n",
    "country = \"Türkiye\"\n",
    "result = dict.fromkeys(person, country)\n",
    "print(result)"
   ]
  },
  {
   "cell_type": "markdown",
   "id": "4f455a76",
   "metadata": {},
   "source": [
    "# pop"
   ]
  },
  {
   "cell_type": "code",
   "execution_count": 13,
   "id": "9efac16a",
   "metadata": {},
   "outputs": [
    {
     "name": "stdout",
     "output_type": "stream",
     "text": [
      "{'Fantastic': 1, 'Horror': 3}\n"
     ]
    }
   ],
   "source": [
    "book = {\"Fantastic\":1, \"Sci-Fi\":2, \"Horror\":3}\n",
    "book.pop(\"Sci-Fi\")\n",
    "print(book)"
   ]
  },
  {
   "cell_type": "markdown",
   "id": "8876c915",
   "metadata": {},
   "source": [
    "# popitem"
   ]
  },
  {
   "cell_type": "code",
   "execution_count": 14,
   "id": "5f0cd8bd",
   "metadata": {},
   "outputs": [
    {
     "name": "stdout",
     "output_type": "stream",
     "text": [
      "{'Fantastic': 1, 'Sci-Fi': 2}\n"
     ]
    }
   ],
   "source": [
    "book = {\"Fantastic\":1, \"Sci-Fi\":2, \"Horror\":3}\n",
    "book.popitem()\n",
    "print(book)"
   ]
  },
  {
   "cell_type": "markdown",
   "id": "676d8083",
   "metadata": {},
   "source": [
    "#  setdefault"
   ]
  },
  {
   "cell_type": "code",
   "execution_count": 19,
   "id": "20dce73e",
   "metadata": {},
   "outputs": [
    {
     "name": "stdout",
     "output_type": "stream",
     "text": [
      "{'Fantastic': 1, 'Sci-Fi': 2, 'Horror': 3}\n"
     ]
    }
   ],
   "source": [
    "book = {\"Fantastic\":1, \"Sci-Fi\":2, \"Horror\":3}\n",
    "result = book.setdefault(\"Sci-Fi\", \"5\")\n",
    "print(book)"
   ]
  },
  {
   "cell_type": "markdown",
   "id": "f6af07db",
   "metadata": {},
   "source": []
  }
 ],
 "metadata": {
  "kernelspec": {
   "display_name": "Python 3 (ipykernel)",
   "language": "python",
   "name": "python3"
  },
  "language_info": {
   "codemirror_mode": {
    "name": "ipython",
    "version": 3
   },
   "file_extension": ".py",
   "mimetype": "text/x-python",
   "name": "python",
   "nbconvert_exporter": "python",
   "pygments_lexer": "ipython3",
   "version": "3.11.4"
  }
 },
 "nbformat": 4,
 "nbformat_minor": 5
}
