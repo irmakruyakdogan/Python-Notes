{
 "cells": [
  {
   "cell_type": "markdown",
   "id": "77f7f854",
   "metadata": {},
   "source": [
    "# append"
   ]
  },
  {
   "cell_type": "code",
   "execution_count": 3,
   "id": "55ed278a",
   "metadata": {},
   "outputs": [
    {
     "name": "stdout",
     "output_type": "stream",
     "text": [
      "['banana', 'orange', 'strawberry', 'apple']\n"
     ]
    }
   ],
   "source": [
    "fruits = [\"banana\", \"orange\", \"strawberry\"]\n",
    "fruits.append(\"apple\")\n",
    "print(fruits)"
   ]
  },
  {
   "cell_type": "markdown",
   "id": "1756f0f5",
   "metadata": {},
   "source": [
    "# insert"
   ]
  },
  {
   "cell_type": "code",
   "execution_count": 4,
   "id": "a1b22f5a",
   "metadata": {},
   "outputs": [
    {
     "name": "stdout",
     "output_type": "stream",
     "text": [
      "['banana', 'apple', 'orange', 'strawberry']\n"
     ]
    }
   ],
   "source": [
    "fruits = [\"banana\", \"orange\", \"strawberry\"]\n",
    "fruits.insert(1, \"apple\")\n",
    "print(fruits)"
   ]
  },
  {
   "cell_type": "markdown",
   "id": "d3af7482",
   "metadata": {},
   "source": [
    "# extend"
   ]
  },
  {
   "cell_type": "code",
   "execution_count": 5,
   "id": "86d873c5",
   "metadata": {},
   "outputs": [
    {
     "name": "stdout",
     "output_type": "stream",
     "text": [
      "['banana', 'orange', 'strawberry', 'chips', 'chocolate', 'biscuit']\n"
     ]
    }
   ],
   "source": [
    "fruits = [\"banana\", \"orange\", \"strawberry\"]\n",
    "snacks = [\"chips\", \"chocolate\", \"biscuit\"]\n",
    "fruits.extend(snacks)\n",
    "print(fruits)"
   ]
  },
  {
   "cell_type": "markdown",
   "id": "48fb8675",
   "metadata": {},
   "source": [
    "# remove"
   ]
  },
  {
   "cell_type": "code",
   "execution_count": 6,
   "id": "a1445253",
   "metadata": {},
   "outputs": [
    {
     "name": "stdout",
     "output_type": "stream",
     "text": [
      "['orange', 'strawberry']\n"
     ]
    }
   ],
   "source": [
    "fruits = [\"banana\", \"orange\", \"strawberry\"]\n",
    "fruits.remove(\"banana\")\n",
    "print(fruits)"
   ]
  },
  {
   "cell_type": "markdown",
   "id": "b4ed02e7",
   "metadata": {},
   "source": [
    "# pop"
   ]
  },
  {
   "cell_type": "code",
   "execution_count": 7,
   "id": "30ac1693",
   "metadata": {},
   "outputs": [
    {
     "name": "stdout",
     "output_type": "stream",
     "text": [
      "['banana', 'strawberry']\n"
     ]
    }
   ],
   "source": [
    "fruits = [\"banana\", \"orange\", \"strawberry\"]\n",
    "fruits.pop(1)\n",
    "print(fruits)"
   ]
  },
  {
   "cell_type": "markdown",
   "id": "45ba3c7d",
   "metadata": {},
   "source": [
    "# sort"
   ]
  },
  {
   "cell_type": "code",
   "execution_count": 9,
   "id": "9cfc4d79",
   "metadata": {},
   "outputs": [
    {
     "name": "stdout",
     "output_type": "stream",
     "text": [
      "['Adele', 'Lana Del Rey', 'The Weeknd']\n"
     ]
    }
   ],
   "source": [
    "name = [\"The Weeknd\", \"Adele\", \"Lana Del Rey\"]\n",
    "name.sort()\n",
    "print(name)"
   ]
  },
  {
   "cell_type": "markdown",
   "id": "ea9eb430",
   "metadata": {},
   "source": [
    "# reverse"
   ]
  },
  {
   "cell_type": "code",
   "execution_count": 10,
   "id": "aea286e7",
   "metadata": {},
   "outputs": [
    {
     "name": "stdout",
     "output_type": "stream",
     "text": [
      "['Lana Del Rey', 'Adele', 'The Weeknd']\n"
     ]
    }
   ],
   "source": [
    "name = [\"The Weeknd\", \"Adele\", \"Lana Del Rey\"]\n",
    "name.reverse()\n",
    "print(name)"
   ]
  },
  {
   "cell_type": "markdown",
   "id": "4e9680e2",
   "metadata": {},
   "source": [
    "# index"
   ]
  },
  {
   "cell_type": "code",
   "execution_count": 12,
   "id": "e4d564b9",
   "metadata": {},
   "outputs": [
    {
     "name": "stdout",
     "output_type": "stream",
     "text": [
      "1\n"
     ]
    }
   ],
   "source": [
    "name = [\"The Weeknd\", \"Adele\", \"Lana Del Rey\"]\n",
    "result = name.index(\"Adele\")\n",
    "print(result)"
   ]
  },
  {
   "cell_type": "markdown",
   "id": "1b51b81e",
   "metadata": {},
   "source": [
    "# count"
   ]
  },
  {
   "cell_type": "code",
   "execution_count": 13,
   "id": "1ec31896",
   "metadata": {},
   "outputs": [
    {
     "name": "stdout",
     "output_type": "stream",
     "text": [
      "2\n"
     ]
    }
   ],
   "source": [
    "name = [\"The Weeknd\", \"Adele\", \"Lana Del Rey\", \"Adele\"]\n",
    "result = name.count(\"Adele\")\n",
    "print(result)"
   ]
  },
  {
   "cell_type": "code",
   "execution_count": null,
   "id": "8c42084f",
   "metadata": {},
   "outputs": [],
   "source": []
  }
 ],
 "metadata": {
  "kernelspec": {
   "display_name": "Python 3 (ipykernel)",
   "language": "python",
   "name": "python3"
  },
  "language_info": {
   "codemirror_mode": {
    "name": "ipython",
    "version": 3
   },
   "file_extension": ".py",
   "mimetype": "text/x-python",
   "name": "python",
   "nbconvert_exporter": "python",
   "pygments_lexer": "ipython3",
   "version": "3.11.4"
  }
 },
 "nbformat": 4,
 "nbformat_minor": 5
}
