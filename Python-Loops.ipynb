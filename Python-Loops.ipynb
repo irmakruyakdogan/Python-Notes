{
 "cells": [
  {
   "cell_type": "markdown",
   "id": "8954de5f",
   "metadata": {},
   "source": [
    "# for"
   ]
  },
  {
   "cell_type": "code",
   "execution_count": 1,
   "id": "50316ab3",
   "metadata": {},
   "outputs": [
    {
     "name": "stdout",
     "output_type": "stream",
     "text": [
      "10\n",
      "20\n",
      "30\n",
      "40\n"
     ]
    }
   ],
   "source": [
    "my_list = [10, 20, 30, 40]\n",
    "for i in my_list:\n",
    "    print(i)"
   ]
  },
  {
   "cell_type": "code",
   "execution_count": 2,
   "id": "fbcc1a9f",
   "metadata": {},
   "outputs": [
    {
     "name": "stdout",
     "output_type": "stream",
     "text": [
      "4\n",
      "5\n"
     ]
    }
   ],
   "source": [
    "numbers = [1, 2, 3, 4, 5]\n",
    "for i in numbers:\n",
    "    if int(i) > 3:\n",
    "        print(i)"
   ]
  },
  {
   "cell_type": "markdown",
   "id": "b0253653",
   "metadata": {},
   "source": [
    "# break"
   ]
  },
  {
   "cell_type": "code",
   "execution_count": 5,
   "id": "aa76b5b5",
   "metadata": {},
   "outputs": [
    {
     "name": "stdout",
     "output_type": "stream",
     "text": [
      "30\n",
      "31\n",
      "completed\n"
     ]
    }
   ],
   "source": [
    "my_list = [30, 31, 2, 10, 43, 80]\n",
    "for i in my_list:\n",
    "    print(i)\n",
    "    if i == 31:\n",
    "        print(\"completed\")  #If we hadn't used 'break', there would have been an output in the form of '30 31 completed 2 10 43 80'\n",
    "        break"
   ]
  },
  {
   "cell_type": "markdown",
   "id": "c3ea809f",
   "metadata": {},
   "source": [
    "# continue"
   ]
  },
  {
   "cell_type": "code",
   "execution_count": 6,
   "id": "3ebf6ddb",
   "metadata": {},
   "outputs": [
    {
     "name": "stdout",
     "output_type": "stream",
     "text": [
      "30\n",
      "31\n",
      "32\n"
     ]
    }
   ],
   "source": [
    "my_list = [30, 31, 32]\n",
    "for i in my_list:\n",
    "    print(i)\n",
    "    if i == 31:\n",
    "        continue\n",
    "        print(\"completed\")"
   ]
  },
  {
   "cell_type": "markdown",
   "id": "499e1532",
   "metadata": {},
   "source": [
    "# while"
   ]
  },
  {
   "cell_type": "code",
   "execution_count": 10,
   "id": "b7c85b9d",
   "metadata": {},
   "outputs": [
    {
     "name": "stdout",
     "output_type": "stream",
     "text": [
      "1\n",
      "2\n",
      "3\n",
      "4\n",
      "5\n",
      "6\n",
      "7\n",
      "8\n",
      "9\n"
     ]
    }
   ],
   "source": [
    "x = 1\n",
    "while x < 10:\n",
    "    print(x)\n",
    "    x = x + 1"
   ]
  },
  {
   "cell_type": "markdown",
   "id": "298e8c75",
   "metadata": {},
   "source": [
    "# range"
   ]
  },
  {
   "cell_type": "code",
   "execution_count": 11,
   "id": "930ede28",
   "metadata": {},
   "outputs": [
    {
     "name": "stdout",
     "output_type": "stream",
     "text": [
      "0\n",
      "1\n",
      "2\n",
      "3\n",
      "4\n"
     ]
    }
   ],
   "source": [
    "for i in range(5):\n",
    "    print(i)"
   ]
  },
  {
   "cell_type": "markdown",
   "id": "15ab82a6",
   "metadata": {},
   "source": [
    "# enumerate"
   ]
  },
  {
   "cell_type": "code",
   "execution_count": 12,
   "id": "c90ca476",
   "metadata": {},
   "outputs": [
    {
     "name": "stdout",
     "output_type": "stream",
     "text": [
      "(0, 20)\n",
      "(1, 30)\n",
      "(2, 40)\n",
      "(3, 50)\n",
      "(4, 60)\n"
     ]
    }
   ],
   "source": [
    "my_list = [20, 30, 40, 50, 60]\n",
    "for num in enumerate(my_list):\n",
    "    print(num)"
   ]
  },
  {
   "cell_type": "markdown",
   "id": "2d6ec431",
   "metadata": {},
   "source": [
    "# random"
   ]
  },
  {
   "cell_type": "code",
   "execution_count": 13,
   "id": "267a4f85",
   "metadata": {},
   "outputs": [
    {
     "data": {
      "text/plain": [
       "0.46063361463219465"
      ]
     },
     "execution_count": 13,
     "metadata": {},
     "output_type": "execute_result"
    }
   ],
   "source": [
    "import random\n",
    "random.random()  # 0 <= n < 1.0"
   ]
  },
  {
   "cell_type": "markdown",
   "id": "be5e5d6b",
   "metadata": {},
   "source": [
    "# randint"
   ]
  },
  {
   "cell_type": "code",
   "execution_count": 14,
   "id": "f271c6ef",
   "metadata": {},
   "outputs": [
    {
     "data": {
      "text/plain": [
       "34"
      ]
     },
     "execution_count": 14,
     "metadata": {},
     "output_type": "execute_result"
    }
   ],
   "source": [
    "random.randint(1, 100)  "
   ]
  },
  {
   "cell_type": "markdown",
   "id": "486d1d1c",
   "metadata": {},
   "source": [
    "# shuffle"
   ]
  },
  {
   "cell_type": "code",
   "execution_count": 15,
   "id": "97dac087",
   "metadata": {},
   "outputs": [
    {
     "name": "stdout",
     "output_type": "stream",
     "text": [
      "[4, 1, 5, 6, 0, 3, 9, 2, 8, 7]\n"
     ]
    }
   ],
   "source": [
    "my_list = list(range(10))\n",
    "random.shuffle(my_list)\n",
    "print(my_list)"
   ]
  },
  {
   "cell_type": "markdown",
   "id": "b3415255",
   "metadata": {},
   "source": [
    "# zip"
   ]
  },
  {
   "cell_type": "code",
   "execution_count": 16,
   "id": "69c27e92",
   "metadata": {},
   "outputs": [
    {
     "name": "stdout",
     "output_type": "stream",
     "text": [
      "[('Adele', 30), ('The Weeknd', 31), ('Lana Del Rey', 32)]\n"
     ]
    }
   ],
   "source": [
    "name = [\"Adele\", \"The Weeknd\", \"Lana Del Rey\"]\n",
    "num = [30, 31, 32]\n",
    "result = list(zip(name, num))\n",
    "print(result)"
   ]
  },
  {
   "cell_type": "markdown",
   "id": "4aca66a9",
   "metadata": {},
   "source": [
    "# choice"
   ]
  },
  {
   "cell_type": "code",
   "execution_count": 17,
   "id": "f94d18ba",
   "metadata": {},
   "outputs": [
    {
     "name": "stdout",
     "output_type": "stream",
     "text": [
      "The Weeknd\n"
     ]
    }
   ],
   "source": [
    "import random\n",
    "name = [\"Adele\", \"The Weeknd\", \"Lana Del Rey\"]\n",
    "print(random.choice(name))"
   ]
  },
  {
   "cell_type": "code",
   "execution_count": null,
   "id": "71ad03a6",
   "metadata": {},
   "outputs": [],
   "source": []
  }
 ],
 "metadata": {
  "kernelspec": {
   "display_name": "Python 3 (ipykernel)",
   "language": "python",
   "name": "python3"
  },
  "language_info": {
   "codemirror_mode": {
    "name": "ipython",
    "version": 3
   },
   "file_extension": ".py",
   "mimetype": "text/x-python",
   "name": "python",
   "nbconvert_exporter": "python",
   "pygments_lexer": "ipython3",
   "version": "3.11.4"
  }
 },
 "nbformat": 4,
 "nbformat_minor": 5
}
