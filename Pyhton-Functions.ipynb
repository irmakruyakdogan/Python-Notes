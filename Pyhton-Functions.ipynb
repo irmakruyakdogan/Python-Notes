{
 "cells": [
  {
   "cell_type": "markdown",
   "id": "4261b854",
   "metadata": {},
   "source": [
    "# def"
   ]
  },
  {
   "cell_type": "code",
   "execution_count": 1,
   "id": "ffd875ee",
   "metadata": {},
   "outputs": [
    {
     "name": "stdout",
     "output_type": "stream",
     "text": [
      "Hello\n",
      "Irmak Rüya\n"
     ]
    }
   ],
   "source": [
    "def hello_name(name):\n",
    "    print(\"Hello\")\n",
    "    print(name)\n",
    "hello_name(\"Irmak Rüya\")    "
   ]
  },
  {
   "cell_type": "markdown",
   "id": "c69d5488",
   "metadata": {},
   "source": [
    "# return"
   ]
  },
  {
   "cell_type": "code",
   "execution_count": 2,
   "id": "69806445",
   "metadata": {},
   "outputs": [
    {
     "name": "stdout",
     "output_type": "stream",
     "text": [
      "19\n"
     ]
    }
   ],
   "source": [
    "def num():\n",
    "    result = 19\n",
    "    return (result)\n",
    "print(num())"
   ]
  },
  {
   "cell_type": "markdown",
   "id": "6973a90d",
   "metadata": {},
   "source": [
    "# args"
   ]
  },
  {
   "cell_type": "code",
   "execution_count": 3,
   "id": "5d18fe4a",
   "metadata": {},
   "outputs": [
    {
     "data": {
      "text/plain": [
       "60"
      ]
     },
     "execution_count": 3,
     "metadata": {},
     "output_type": "execute_result"
    }
   ],
   "source": [
    "def args_sum(*args):\n",
    "    return sum(args)\n",
    "args_sum(10, 20, 30)"
   ]
  },
  {
   "cell_type": "markdown",
   "id": "7faf16b5",
   "metadata": {},
   "source": [
    "# kwargs"
   ]
  },
  {
   "cell_type": "code",
   "execution_count": 4,
   "id": "684a76d0",
   "metadata": {},
   "outputs": [
    {
     "name": "stdout",
     "output_type": "stream",
     "text": [
      "{'apple': 100, 'banana': 200, 'melon': 300}\n"
     ]
    }
   ],
   "source": [
    "def kwargs_exam(**kwargs):\n",
    "    print(kwargs)\n",
    "kwargs_exam(apple = 100, banana = 200, melon = 300)"
   ]
  },
  {
   "cell_type": "markdown",
   "id": "add9b1c5",
   "metadata": {},
   "source": [
    "# map"
   ]
  },
  {
   "cell_type": "code",
   "execution_count": 5,
   "id": "08555f95",
   "metadata": {},
   "outputs": [
    {
     "name": "stdout",
     "output_type": "stream",
     "text": [
      "[1, 25, 64, 81, 121, 49]\n"
     ]
    }
   ],
   "source": [
    "numbers = [1, 5, 8, 9, 11, 7]\n",
    "def square(num):\n",
    "    return num**2\n",
    "result = list(map(square, numbers))\n",
    "print(result)"
   ]
  },
  {
   "cell_type": "markdown",
   "id": "a2bb03c8",
   "metadata": {},
   "source": [
    "# filter"
   ]
  },
  {
   "cell_type": "code",
   "execution_count": 6,
   "id": "d3bf959d",
   "metadata": {},
   "outputs": [
    {
     "name": "stdout",
     "output_type": "stream",
     "text": [
      "[10, 4]\n"
     ]
    }
   ],
   "source": [
    "numbers = [1, 3, 5, 9, 10, 4]\n",
    "result = list(filter(lambda num: num%2 == 0, numbers))\n",
    "print(result)"
   ]
  },
  {
   "cell_type": "markdown",
   "id": "87a2d0ad",
   "metadata": {},
   "source": [
    "# lambda"
   ]
  },
  {
   "cell_type": "code",
   "execution_count": 7,
   "id": "9f9c4d0f",
   "metadata": {},
   "outputs": [
    {
     "name": "stdout",
     "output_type": "stream",
     "text": [
      "64\n"
     ]
    }
   ],
   "source": [
    "print((lambda x: x**2)(8))"
   ]
  },
  {
   "cell_type": "code",
   "execution_count": null,
   "id": "84c978c5",
   "metadata": {},
   "outputs": [],
   "source": []
  }
 ],
 "metadata": {
  "kernelspec": {
   "display_name": "Python 3 (ipykernel)",
   "language": "python",
   "name": "python3"
  },
  "language_info": {
   "codemirror_mode": {
    "name": "ipython",
    "version": 3
   },
   "file_extension": ".py",
   "mimetype": "text/x-python",
   "name": "python",
   "nbconvert_exporter": "python",
   "pygments_lexer": "ipython3",
   "version": "3.11.4"
  }
 },
 "nbformat": 4,
 "nbformat_minor": 5
}
