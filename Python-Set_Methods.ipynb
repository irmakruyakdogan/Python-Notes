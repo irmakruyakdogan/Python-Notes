{
 "cells": [
  {
   "cell_type": "markdown",
   "id": "18c0b5c1",
   "metadata": {},
   "source": [
    "# add"
   ]
  },
  {
   "cell_type": "code",
   "execution_count": 2,
   "id": "b6a2f76c",
   "metadata": {},
   "outputs": [
    {
     "name": "stdout",
     "output_type": "stream",
     "text": [
      "{'pomegranate', 'banana', 'apple', 'orange'}\n"
     ]
    }
   ],
   "source": [
    "fruits = {\"banana\", \"apple\", \"orange\"}\n",
    "fruits.add(\"pomegranate\")\n",
    "print(fruits)"
   ]
  },
  {
   "cell_type": "markdown",
   "id": "ffe6f884",
   "metadata": {},
   "source": [
    "# clear"
   ]
  },
  {
   "cell_type": "code",
   "execution_count": 3,
   "id": "95e41f48",
   "metadata": {},
   "outputs": [
    {
     "name": "stdout",
     "output_type": "stream",
     "text": [
      "set()\n"
     ]
    }
   ],
   "source": [
    "fruits = {\"banana\", \"apple\", \"orange\"}\n",
    "fruits.clear()\n",
    "print(fruits)"
   ]
  },
  {
   "cell_type": "markdown",
   "id": "0feee5fc",
   "metadata": {},
   "source": [
    "# copy"
   ]
  },
  {
   "cell_type": "code",
   "execution_count": 4,
   "id": "d6d21cf2",
   "metadata": {},
   "outputs": [
    {
     "name": "stdout",
     "output_type": "stream",
     "text": [
      "{'banana', 'apple', 'orange'}\n"
     ]
    }
   ],
   "source": [
    "fruits = {\"banana\", \"apple\", \"orange\"}\n",
    "result = fruits.copy()\n",
    "print(fruits)"
   ]
  },
  {
   "cell_type": "markdown",
   "id": "ced4100e",
   "metadata": {},
   "source": [
    "# update"
   ]
  },
  {
   "cell_type": "code",
   "execution_count": 5,
   "id": "bd5e8785",
   "metadata": {},
   "outputs": [
    {
     "name": "stdout",
     "output_type": "stream",
     "text": [
      "{'chocolate', 'apple', 'chips', 'biscuit', 'banana', 'orange'}\n"
     ]
    }
   ],
   "source": [
    "fruits = {\"banana\", \"apple\", \"orange\"}\n",
    "snacks = {\"chips\", \"chocolate\", \"biscuit\"}\n",
    "fruits.update(snacks)\n",
    "print(fruits)"
   ]
  },
  {
   "cell_type": "markdown",
   "id": "9a379855",
   "metadata": {},
   "source": [
    "# remove"
   ]
  },
  {
   "cell_type": "code",
   "execution_count": 6,
   "id": "e9e4721d",
   "metadata": {},
   "outputs": [
    {
     "name": "stdout",
     "output_type": "stream",
     "text": [
      "{'banana', 'orange'}\n"
     ]
    }
   ],
   "source": [
    "fruits = {\"banana\", \"apple\", \"orange\"}\n",
    "fruits.remove(\"apple\")\n",
    "print(fruits)"
   ]
  },
  {
   "cell_type": "markdown",
   "id": "4bf67199",
   "metadata": {},
   "source": [
    "# discard"
   ]
  },
  {
   "cell_type": "code",
   "execution_count": 7,
   "id": "1508246a",
   "metadata": {},
   "outputs": [
    {
     "name": "stdout",
     "output_type": "stream",
     "text": [
      "{'banana', 'apple', 'orange'}\n"
     ]
    }
   ],
   "source": [
    "fruits = {\"banana\", \"apple\", \"orange\"}\n",
    "fruits.discard(\"strawberry\")\n",
    "print(fruits)"
   ]
  },
  {
   "cell_type": "markdown",
   "id": "416d751c",
   "metadata": {},
   "source": [
    "# pop"
   ]
  },
  {
   "cell_type": "code",
   "execution_count": 8,
   "id": "43f48651",
   "metadata": {},
   "outputs": [
    {
     "name": "stdout",
     "output_type": "stream",
     "text": [
      "{'apple', 'orange'}\n"
     ]
    }
   ],
   "source": [
    "fruits = {\"banana\", \"apple\", \"orange\"}\n",
    "fruits.pop()\n",
    "print(fruits)"
   ]
  },
  {
   "cell_type": "markdown",
   "id": "9d06ccc7",
   "metadata": {},
   "source": [
    "# union"
   ]
  },
  {
   "cell_type": "code",
   "execution_count": 10,
   "id": "dead7686",
   "metadata": {},
   "outputs": [
    {
     "name": "stdout",
     "output_type": "stream",
     "text": [
      "{'chocolate', 'apple', 'chips', 'biscuit', 'banana', 'orange'}\n"
     ]
    }
   ],
   "source": [
    "fruits = {\"banana\", \"apple\", \"orange\"}\n",
    "snacks = {\"chips\", \"chocolate\", \"biscuit\"}\n",
    "result = fruits.union(snacks)\n",
    "print(result)"
   ]
  },
  {
   "cell_type": "markdown",
   "id": "7a472099",
   "metadata": {},
   "source": [
    "# intersection"
   ]
  },
  {
   "cell_type": "code",
   "execution_count": 11,
   "id": "49f1de5b",
   "metadata": {},
   "outputs": [
    {
     "name": "stdout",
     "output_type": "stream",
     "text": [
      "{'banana'}\n"
     ]
    }
   ],
   "source": [
    "fruits = {\"banana\", \"apple\", \"orange\"}\n",
    "snacks = {\"chips\", \"chocolate\", \"banana\"}\n",
    "result = fruits.intersection(snacks)\n",
    "print(result)"
   ]
  },
  {
   "cell_type": "markdown",
   "id": "b0530180",
   "metadata": {},
   "source": [
    "# intersection_update"
   ]
  },
  {
   "cell_type": "code",
   "execution_count": 12,
   "id": "12045c40",
   "metadata": {},
   "outputs": [
    {
     "name": "stdout",
     "output_type": "stream",
     "text": [
      "{2, 3}\n"
     ]
    }
   ],
   "source": [
    "A = {1, 2, 3}\n",
    "B = {2, 3, 4}\n",
    "new_set = A.intersection_update(B)\n",
    "print(A)"
   ]
  },
  {
   "cell_type": "markdown",
   "id": "22cd8e76",
   "metadata": {},
   "source": [
    "# isdisjoint"
   ]
  },
  {
   "cell_type": "code",
   "execution_count": 13,
   "id": "e3f3ef21",
   "metadata": {},
   "outputs": [
    {
     "name": "stdout",
     "output_type": "stream",
     "text": [
      "True\n"
     ]
    }
   ],
   "source": [
    "fruits = {\"banana\", \"apple\", \"orange\"}\n",
    "snacks = {\"chips\", \"chocolate\", \"biscuit\"}\n",
    "result = fruits.isdisjoint(snacks)\n",
    "print(result)"
   ]
  },
  {
   "cell_type": "markdown",
   "id": "c6d902d8",
   "metadata": {},
   "source": [
    "# difference"
   ]
  },
  {
   "cell_type": "code",
   "execution_count": 14,
   "id": "d275a629",
   "metadata": {},
   "outputs": [
    {
     "name": "stdout",
     "output_type": "stream",
     "text": [
      "{'apple', 'orange'}\n"
     ]
    }
   ],
   "source": [
    "fruits = {\"banana\", \"apple\", \"orange\"}\n",
    "snacks = {\"chips\", \"chocolate\", \"banana\"}\n",
    "result = fruits.difference(snacks)\n",
    "print(result)"
   ]
  },
  {
   "cell_type": "markdown",
   "id": "a778291e",
   "metadata": {},
   "source": [
    "# difference_update"
   ]
  },
  {
   "cell_type": "code",
   "execution_count": 15,
   "id": "1e779d97",
   "metadata": {},
   "outputs": [
    {
     "name": "stdout",
     "output_type": "stream",
     "text": [
      "{'Ankara', 'Bolu'}\n"
     ]
    }
   ],
   "source": [
    "city = {\"Ankara\", \"Sivas\", \"Bolu\"}\n",
    "x = {\"Sivas\", \"Kayseri\", \"İstanbul\"}\n",
    "city.difference_update(x)\n",
    "print(city)"
   ]
  },
  {
   "cell_type": "markdown",
   "id": "5277f35f",
   "metadata": {},
   "source": [
    "# issubset"
   ]
  },
  {
   "cell_type": "code",
   "execution_count": 19,
   "id": "0c7421f4",
   "metadata": {},
   "outputs": [
    {
     "name": "stdout",
     "output_type": "stream",
     "text": [
      "False\n"
     ]
    }
   ],
   "source": [
    "alp = {\"a\", \"b\", \"c\"}\n",
    "num = {\"d\", \"e\", \"b\", \"c\", \"j\", \"i\"}\n",
    "result = alp.issubset(num)\n",
    "print(result)"
   ]
  },
  {
   "cell_type": "markdown",
   "id": "5dd0cd56",
   "metadata": {},
   "source": [
    "# issuperset"
   ]
  },
  {
   "cell_type": "code",
   "execution_count": 20,
   "id": "26f005b5",
   "metadata": {},
   "outputs": [
    {
     "name": "stdout",
     "output_type": "stream",
     "text": [
      "True\n"
     ]
    }
   ],
   "source": [
    "alp = {\"f\", \"e\", \"d\", \"c\", \"b\", \"a\"}\n",
    "num = {\"a\", \"b\", \"c\"}\n",
    "result = alp.issuperset(num)\n",
    "print(result)"
   ]
  },
  {
   "cell_type": "code",
   "execution_count": null,
   "id": "bf249a2d",
   "metadata": {},
   "outputs": [],
   "source": []
  }
 ],
 "metadata": {
  "kernelspec": {
   "display_name": "Python 3 (ipykernel)",
   "language": "python",
   "name": "python3"
  },
  "language_info": {
   "codemirror_mode": {
    "name": "ipython",
    "version": 3
   },
   "file_extension": ".py",
   "mimetype": "text/x-python",
   "name": "python",
   "nbconvert_exporter": "python",
   "pygments_lexer": "ipython3",
   "version": "3.11.4"
  }
 },
 "nbformat": 4,
 "nbformat_minor": 5
}
